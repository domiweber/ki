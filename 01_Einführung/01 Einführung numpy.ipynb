{
 "cells": [
  {
   "cell_type": "markdown",
   "metadata": {},
   "source": [
    "# Matrizen und Vektoren mit Numpy in Python programmieren"
   ]
  },
  {
   "cell_type": "markdown",
   "metadata": {},
   "source": [
    "## Listen und Arrays in Python\n"
   ]
  },
  {
   "cell_type": "code",
   "execution_count": 2,
   "metadata": {},
   "outputs": [],
   "source": [
    "import numpy as np"
   ]
  },
  {
   "cell_type": "code",
   "execution_count": 3,
   "metadata": {},
   "outputs": [],
   "source": [
    "import array\n",
    "\n",
    "import numpy as np"
   ]
  },
  {
   "cell_type": "markdown",
   "metadata": {},
   "source": [
    "Numpy ist ein Akronym für \"Nummerisches Python\". Diese Erweiterung ist zum größten Teil in C geschrieben und stellt dadurch sicher, dass ie kompilierten mathematischen und numerischen Funktionen und Funktionalitäten eine größtmögliche Ausführungsgeschwindigkeit garantieren. Standardmäßig wird Numpy mit np abgekürzt."
   ]
  },
  {
   "cell_type": "markdown",
   "metadata": {},
   "source": [
    "Der Installationspfad zum installieren an den Schulrechnern lautet:\n",
    "\n",
    "\"C:\\Program Files\\Python310\\python.exe\" -m  pip  install numpy"
   ]
  },
  {
   "cell_type": "markdown",
   "metadata": {},
   "source": [
    "## Listen in Python"
   ]
  },
  {
   "cell_type": "code",
   "execution_count": 4,
   "metadata": {},
   "outputs": [
    {
     "name": "stdout",
     "output_type": "stream",
     "text": [
      "[<class 'bool'>, <class 'str'>, <class 'float'>, <class 'int'>, <class 'NoneType'>]\n"
     ]
    }
   ],
   "source": [
    "my_list = [True, \"Hello\", 42.0, 420, None]\n",
    "\n",
    "print([type(val) for val in my_list])\n"
   ]
  },
  {
   "cell_type": "markdown",
   "metadata": {},
   "source": [
    "## Python Array"
   ]
  },
  {
   "cell_type": "code",
   "execution_count": 5,
   "metadata": {},
   "outputs": [
    {
     "name": "stdout",
     "output_type": "stream",
     "text": [
      "array('i', [0, 1, 2, 3, 4, 5, 6, 7, 8, 9])\n"
     ]
    }
   ],
   "source": [
    "my_array_range = list(range(10))\n",
    "my_array = array.array('i', my_array_range)\n",
    "\n",
    "print(my_array)"
   ]
  },
  {
   "cell_type": "markdown",
   "metadata": {},
   "source": [
    "### Array Dtypes\n",
    "\n",
    "|           |                    |                   |                       |     |\n",
    "| --------- | ------------------ | ----------------- | --------------------- | --- |\n",
    "| Type code | C Type             | Python Type       | Minimum size in bytes |\n",
    "| 'b'       | signed char        | int               | 1                     |\n",
    "| 'B'       | unsigned char      | int               | 1                     |\n",
    "| 'u'       | wchar_t            | Unicode character | 2                     |\n",
    "| 'h'       | signed short       | int               | 2                     |\n",
    "| 'H'       | unsigned short     | int               | 2                     |\n",
    "| 'i'       | signed int         | int               | 2                     |\n",
    "| 'I'       | unsigned int       | int               | 2                     |\n",
    "| 'l'       | signed long        | int               | 4                     |\n",
    "| 'L'       | unsigned long      | int               | 4                     |\n",
    "| 'q'       | signed long long   | int               | 8                     |\n",
    "| 'Q'       | unsigned long long | int               | 8                     |\n",
    "| 'f'       | float              | float             | 4                     |\n",
    "| 'd'       | double             | float             | 8                     |\n"
   ]
  },
  {
   "cell_type": "code",
   "execution_count": 6,
   "metadata": {},
   "outputs": [
    {
     "name": "stdout",
     "output_type": "stream",
     "text": [
      "array('d', [0.0, 1.0, 2.0, 3.0, 4.0, 5.0, 6.0, 7.0, 8.0, 9.0])\n"
     ]
    }
   ],
   "source": [
    "my_array_range = list(range(10))\n",
    "my_array = array.array('d', my_array_range)\n",
    "\n",
    "print(my_array)"
   ]
  },
  {
   "cell_type": "markdown",
   "metadata": {},
   "source": [
    "## Numpy Array"
   ]
  },
  {
   "cell_type": "markdown",
   "metadata": {},
   "source": [
    "NumPy ist das grundlegende Paket für wissenschaftliches Rechnen in Python.\n",
    "Es handelt sich um eine Python-Bibliothek, die ein mehrdimensionales Array-Objekt bereitstellt.\n",
    "verschiedene abgeleitete Objekte und eine Reihe von Routinen für\n",
    "schnelle Operationen auf Arrays.\n",
    "\n",
    "Das Herzstück des NumPy-Pakets ist das ndarray-Objekt.\n",
    "Dies kapselt n-dimensionale Arrays homogener Datentypen.\n",
    "wobei viele Vorgänge aus Leistungsgründen im kompilierten Code ausgeführt werden."
   ]
  },
  {
   "cell_type": "markdown",
   "metadata": {},
   "source": [
    "Wir definieren eine Funktion, die uns die wesentlichen Größen eines Arrays liefert:"
   ]
  },
  {
   "cell_type": "code",
   "execution_count": 7,
   "metadata": {},
   "outputs": [],
   "source": [
    "def array_info(array: np.ndarray) -> None:\n",
    "    print(f\"ndim: {array.ndim}\")\n",
    "    print(f\"shape: {array.shape}\")\n",
    "    print(f\"size: {array.size}\")\n",
    "    print(f\"dtype: {array.dtype}\")\n",
    "    print(f\"values:\\n{array}\\n\")"
   ]
  },
  {
   "cell_type": "code",
   "execution_count": 8,
   "metadata": {},
   "outputs": [
    {
     "name": "stdout",
     "output_type": "stream",
     "text": [
      "ndim: 1\n",
      "shape: (5,)\n",
      "size: 5\n",
      "dtype: int32\n",
      "values:\n",
      "[1 4 2 5 3]\n",
      "\n"
     ]
    }
   ],
   "source": [
    "my_np_array = np.array([1, 4, 2, 5, 3])\n",
    "array_info(my_np_array)"
   ]
  },
  {
   "cell_type": "code",
   "execution_count": 9,
   "metadata": {},
   "outputs": [
    {
     "name": "stdout",
     "output_type": "stream",
     "text": [
      "ndim: 1\n",
      "shape: (4,)\n",
      "size: 4\n",
      "dtype: float64\n",
      "values:\n",
      "[3.14 4.   2.   3.  ]\n",
      "\n"
     ]
    }
   ],
   "source": [
    "my_np_array = np.array([3.14, 4, 2, 3])\n",
    "array_info(my_np_array)\n"
   ]
  },
  {
   "cell_type": "code",
   "execution_count": 10,
   "metadata": {},
   "outputs": [
    {
     "name": "stdout",
     "output_type": "stream",
     "text": [
      "ndim: 1\n",
      "shape: (4,)\n",
      "size: 4\n",
      "dtype: float32\n",
      "values:\n",
      "[1. 2. 3. 4.]\n",
      "\n"
     ]
    }
   ],
   "source": [
    "my_np_array = np.array([1, 2, 3, 4], dtype='float32')\n",
    "array_info(my_np_array)"
   ]
  },
  {
   "cell_type": "markdown",
   "metadata": {},
   "source": [
    "## Numpy Funktionen\n"
   ]
  },
  {
   "cell_type": "markdown",
   "metadata": {},
   "source": [
    "### Nullmatrix erstellen"
   ]
  },
  {
   "cell_type": "code",
   "execution_count": 11,
   "metadata": {},
   "outputs": [
    {
     "name": "stdout",
     "output_type": "stream",
     "text": [
      "ndim: 1\n",
      "shape: (10,)\n",
      "size: 10\n",
      "dtype: int32\n",
      "values:\n",
      "[0 0 0 0 0 0 0 0 0 0]\n",
      "\n"
     ]
    }
   ],
   "source": [
    "my_np_array = np.zeros(shape=(10), dtype=int)\n",
    "array_info(my_np_array)"
   ]
  },
  {
   "cell_type": "markdown",
   "metadata": {},
   "source": [
    "### Einsmatrix"
   ]
  },
  {
   "cell_type": "code",
   "execution_count": 12,
   "metadata": {},
   "outputs": [
    {
     "name": "stdout",
     "output_type": "stream",
     "text": [
      "ndim: 2\n",
      "shape: (3, 5)\n",
      "size: 15\n",
      "dtype: float64\n",
      "values:\n",
      "[[1. 1. 1. 1. 1.]\n",
      " [1. 1. 1. 1. 1.]\n",
      " [1. 1. 1. 1. 1.]]\n",
      "\n"
     ]
    }
   ],
   "source": [
    "my_np_array = np.ones(shape=(3, 5), dtype=float)\n",
    "array_info(my_np_array)"
   ]
  },
  {
   "cell_type": "markdown",
   "metadata": {},
   "source": [
    "### Erzeugen einer Matrix mit gleichen Komponenten"
   ]
  },
  {
   "cell_type": "code",
   "execution_count": 13,
   "metadata": {},
   "outputs": [
    {
     "name": "stdout",
     "output_type": "stream",
     "text": [
      "ndim: 2\n",
      "shape: (3, 5)\n",
      "size: 15\n",
      "dtype: float64\n",
      "values:\n",
      "[[3.14 3.14 3.14 3.14 3.14]\n",
      " [3.14 3.14 3.14 3.14 3.14]\n",
      " [3.14 3.14 3.14 3.14 3.14]]\n",
      "\n"
     ]
    }
   ],
   "source": [
    "my_np_array = np.full(shape=(3, 5), fill_value=3.14)\n",
    "array_info(my_np_array)"
   ]
  },
  {
   "cell_type": "markdown",
   "metadata": {},
   "source": [
    "### Erstellen eines Vektors mit Start-, Stopwert und Schrittweite"
   ]
  },
  {
   "cell_type": "code",
   "execution_count": 14,
   "metadata": {},
   "outputs": [
    {
     "name": "stdout",
     "output_type": "stream",
     "text": [
      "ndim: 1\n",
      "shape: (10,)\n",
      "size: 10\n",
      "dtype: int32\n",
      "values:\n",
      "[ 0  2  4  6  8 10 12 14 16 18]\n",
      "\n"
     ]
    }
   ],
   "source": [
    "my_np_array = np.arange(start=0, stop=20, step=2)\n",
    "array_info(my_np_array)"
   ]
  },
  {
   "cell_type": "markdown",
   "metadata": {},
   "source": [
    "### Erstellen eines Vektor mit Start-, Stopwert sowie Anzahl der Elemente zwischen diesen Werten"
   ]
  },
  {
   "cell_type": "code",
   "execution_count": 15,
   "metadata": {},
   "outputs": [
    {
     "name": "stdout",
     "output_type": "stream",
     "text": [
      "ndim: 1\n",
      "shape: (5,)\n",
      "size: 5\n",
      "dtype: float64\n",
      "values:\n",
      "[0.   0.25 0.5  0.75 1.  ]\n",
      "\n"
     ]
    }
   ],
   "source": [
    "my_np_array = np.linspace(start=0, stop=1, num=5)\n",
    "array_info(my_np_array)"
   ]
  },
  {
   "cell_type": "markdown",
   "metadata": {},
   "source": [
    "### Erstellen einer Einheitsmatrix"
   ]
  },
  {
   "cell_type": "code",
   "execution_count": 16,
   "metadata": {},
   "outputs": [
    {
     "name": "stdout",
     "output_type": "stream",
     "text": [
      "ndim: 2\n",
      "shape: (3, 3)\n",
      "size: 9\n",
      "dtype: float64\n",
      "values:\n",
      "[[1. 0. 0.]\n",
      " [0. 1. 0.]\n",
      " [0. 0. 1.]]\n",
      "\n"
     ]
    }
   ],
   "source": [
    "my_np_array = np.eye(N=3)\n",
    "array_info(my_np_array)"
   ]
  },
  {
   "cell_type": "markdown",
   "metadata": {},
   "source": [
    "### Erstellen einer Diagnoalmatrix"
   ]
  },
  {
   "cell_type": "code",
   "execution_count": 17,
   "metadata": {},
   "outputs": [
    {
     "name": "stdout",
     "output_type": "stream",
     "text": [
      "ndim: 2\n",
      "shape: (3, 3)\n",
      "size: 9\n",
      "dtype: int32\n",
      "values:\n",
      "[[1 0 0]\n",
      " [0 2 0]\n",
      " [0 0 3]]\n",
      "\n"
     ]
    }
   ],
   "source": [
    "my_np_array = np.diag([1, 2, 3])\n",
    "array_info(my_np_array)"
   ]
  },
  {
   "cell_type": "markdown",
   "metadata": {},
   "source": [
    "## Random Funktionen"
   ]
  },
  {
   "cell_type": "markdown",
   "metadata": {},
   "source": [
    "### Ganzzahl Zufallszahl"
   ]
  },
  {
   "cell_type": "code",
   "execution_count": 18,
   "metadata": {},
   "outputs": [
    {
     "name": "stdout",
     "output_type": "stream",
     "text": [
      "ndim: 2\n",
      "shape: (3, 3)\n",
      "size: 9\n",
      "dtype: int32\n",
      "values:\n",
      "[[4 7 8]\n",
      " [2 9 9]\n",
      " [4 4 7]]\n",
      "\n"
     ]
    }
   ],
   "source": [
    "my_np_array = np.random.randint(low=0, high=10, size=(3, 3))\n",
    "array_info(my_np_array)"
   ]
  },
  {
   "cell_type": "markdown",
   "metadata": {},
   "source": [
    "### Reelle Zufallszahl"
   ]
  },
  {
   "cell_type": "code",
   "execution_count": 19,
   "metadata": {},
   "outputs": [
    {
     "name": "stdout",
     "output_type": "stream",
     "text": [
      "ndim: 2\n",
      "shape: (3, 3)\n",
      "size: 9\n",
      "dtype: float64\n",
      "values:\n",
      "[[0.41085025 0.76310947 0.31047541]\n",
      " [0.5874872  0.23099643 0.68777054]\n",
      " [0.13104996 0.22085346 0.76468711]]\n",
      "\n"
     ]
    }
   ],
   "source": [
    "my_np_array = np.random.random(size=(3, 3))\n",
    "array_info(my_np_array)\n"
   ]
  }
 ],
 "metadata": {
  "kernelspec": {
   "display_name": "Python 3",
   "language": "python",
   "name": "python3"
  },
  "language_info": {
   "codemirror_mode": {
    "name": "ipython",
    "version": 3
   },
   "file_extension": ".py",
   "mimetype": "text/x-python",
   "name": "python",
   "nbconvert_exporter": "python",
   "pygments_lexer": "ipython3",
   "version": "3.12.0"
  },
  "orig_nbformat": 4
 },
 "nbformat": 4,
 "nbformat_minor": 2
}
