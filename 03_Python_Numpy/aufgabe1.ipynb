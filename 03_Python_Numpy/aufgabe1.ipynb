{
 "cells": [
  {
   "cell_type": "code",
   "execution_count": 1,
   "metadata": {},
   "outputs": [
    {
     "name": "stdout",
     "output_type": "stream",
     "text": [
      "[3]\n"
     ]
    }
   ],
   "source": [
    "import numpy as np\n",
    "\n",
    "# Aufgabe a\n",
    "\n",
    "a = np.array([1,4,0,1])\n",
    "b = np.array([[1],[0],[3],[2]])\n",
    "\n",
    "print(a @ b)\n"
   ]
  },
  {
   "cell_type": "code",
   "execution_count": 5,
   "metadata": {},
   "outputs": [
    {
     "name": "stdout",
     "output_type": "stream",
     "text": [
      "[3 4]\n"
     ]
    }
   ],
   "source": [
    "import numpy as np\n",
    "\n",
    "# Aufgabe b\n",
    "\n",
    "a = np.array([1,4,0,1])\n",
    "b = np.array([[1,0],[0,1],[3,4],[2,0]])\n",
    "\n",
    "print(a @ b)"
   ]
  },
  {
   "cell_type": "code",
   "execution_count": 7,
   "metadata": {},
   "outputs": [
    {
     "name": "stdout",
     "output_type": "stream",
     "text": [
      "[[3 4]\n",
      " [9 6]]\n"
     ]
    }
   ],
   "source": [
    "import numpy as np\n",
    "\n",
    "# Aufgabe c\n",
    "\n",
    "a = np.array([[1,4,0,1],[0,2,1,3]])\n",
    "b = np.array([[1,0],[0,1],[3,4],[2,0]])\n",
    "\n",
    "print(a @ b)"
   ]
  },
  {
   "cell_type": "code",
   "execution_count": 8,
   "metadata": {},
   "outputs": [
    {
     "name": "stdout",
     "output_type": "stream",
     "text": [
      "[[3 4 8]\n",
      " [9 6 6]]\n"
     ]
    }
   ],
   "source": [
    "import numpy as np\n",
    "\n",
    "# Aufgabe d\n",
    "\n",
    "a = np.array([[1,4,0,1],[0,2,1,3]])\n",
    "b = np.array([[1,0,3],[0,1,1],[3,4,1],[2,0,1]])\n",
    "\n",
    "print(a @ b)"
   ]
  },
  {
   "cell_type": "code",
   "execution_count": 9,
   "metadata": {},
   "outputs": [
    {
     "name": "stdout",
     "output_type": "stream",
     "text": [
      "[[1 4 7]\n",
      " [2 5 8]\n",
      " [3 6 9]]\n"
     ]
    }
   ],
   "source": [
    "import numpy as np\n",
    "\n",
    "# Aufgabe e\n",
    "\n",
    "a = np.array([[1,0,0],[0,1,0],[0,0,1]])\n",
    "b = np.array([[1,4,7],[2,5,8],[3,6,9]])\n",
    "\n",
    "print(a @ b)"
   ]
  },
  {
   "cell_type": "code",
   "execution_count": 10,
   "metadata": {},
   "outputs": [
    {
     "name": "stdout",
     "output_type": "stream",
     "text": [
      "[[1 4 7]\n",
      " [2 5 8]\n",
      " [3 6 9]]\n"
     ]
    }
   ],
   "source": [
    "import numpy as np\n",
    "\n",
    "# Aufgabe f\n",
    "\n",
    "\n",
    "a = np.array([[1,4,7],[2,5,8],[3,6,9]])\n",
    "b = np.array([[1,0,0],[0,1,0],[0,0,1]])\n",
    "\n",
    "print(a @ b)"
   ]
  },
  {
   "cell_type": "code",
   "execution_count": 11,
   "metadata": {},
   "outputs": [
    {
     "name": "stdout",
     "output_type": "stream",
     "text": [
      "[[1 4 7]\n",
      " [1 4 7]\n",
      " [1 4 7]]\n"
     ]
    }
   ],
   "source": [
    "import numpy as np\n",
    "\n",
    "# Aufgabe g\n",
    "\n",
    "a = np.array([[1,0,0],[1,0,0],[1,0,0]])\n",
    "b = np.array([[1,4,7],[2,5,8],[3,6,9]])\n",
    "\n",
    "\n",
    "print(a @ b)"
   ]
  },
  {
   "cell_type": "code",
   "execution_count": 12,
   "metadata": {},
   "outputs": [
    {
     "name": "stdout",
     "output_type": "stream",
     "text": [
      "[[12  0  0]\n",
      " [15  0  0]\n",
      " [18  0  0]]\n"
     ]
    }
   ],
   "source": [
    "import numpy as np\n",
    "\n",
    "# Aufgabe h\n",
    "\n",
    "a = np.array([[1,4,7],[2,5,8],[3,6,9]])\n",
    "b = np.array([[1,0,0],[1,0,0],[1,0,0]])\n",
    "\n",
    "\n",
    "\n",
    "print(a @ b)"
   ]
  }
 ],
 "metadata": {
  "kernelspec": {
   "display_name": ".venv",
   "language": "python",
   "name": "python3"
  },
  "language_info": {
   "codemirror_mode": {
    "name": "ipython",
    "version": 3
   },
   "file_extension": ".py",
   "mimetype": "text/x-python",
   "name": "python",
   "nbconvert_exporter": "python",
   "pygments_lexer": "ipython3",
   "version": "3.10.10"
  }
 },
 "nbformat": 4,
 "nbformat_minor": 2
}
