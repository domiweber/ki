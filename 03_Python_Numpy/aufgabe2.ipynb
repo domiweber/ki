{
 "cells": [
  {
   "cell_type": "code",
   "execution_count": 9,
   "metadata": {},
   "outputs": [
    {
     "name": "stdout",
     "output_type": "stream",
     "text": [
      "[[-2  4]\n",
      " [17 11]\n",
      " [10 -5]]\n"
     ]
    }
   ],
   "source": [
    "import numpy as np\n",
    "\n",
    "# Aufgabe a\n",
    "\n",
    "a = np.array([[-2,0],[-1,3],[4,1]])\n",
    "b = np.array([[-1,1],[5,3]])\n",
    "c = np.array([[2,-3],[1,0]])\n",
    "\n",
    "\n",
    "\n",
    "#print(a @ (b+c))\n",
    "print((a @ b) + (a @ c))"
   ]
  }
 ],
 "metadata": {
  "kernelspec": {
   "display_name": ".venv",
   "language": "python",
   "name": "python3"
  },
  "language_info": {
   "codemirror_mode": {
    "name": "ipython",
    "version": 3
   },
   "file_extension": ".py",
   "mimetype": "text/x-python",
   "name": "python",
   "nbconvert_exporter": "python",
   "pygments_lexer": "ipython3",
   "version": "3.10.10"
  }
 },
 "nbformat": 4,
 "nbformat_minor": 2
}
