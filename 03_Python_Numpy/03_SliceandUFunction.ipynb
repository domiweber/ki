{
 "cells": [
  {
   "cell_type": "code",
   "execution_count": 16,
   "metadata": {},
   "outputs": [
    {
     "name": "stdout",
     "output_type": "stream",
     "text": [
      "(array([1, 2, 2]), array([0, 0, 1]))\n"
     ]
    }
   ],
   "source": [
    "import numpy as np\n",
    "\n",
    "N = np.zeros((3,3))\n",
    "\n",
    "\n",
    "M = np.array([np.pi,np.pi,np.pi])\n",
    "N= np.diag(M)\n",
    "\n",
    "\n",
    "N[1,0] = -1\n",
    "\n",
    "i =  np.tril_indices(3,-1)\n",
    "j =  np.triu_indices(3,1)\n",
    "print (i)\n",
    "#N[i]= -1\n",
    "\n",
    "\n",
    "#print (N)"
   ]
  },
  {
   "cell_type": "code",
   "execution_count": 85,
   "metadata": {},
   "outputs": [
    {
     "name": "stdout",
     "output_type": "stream",
     "text": [
      "[[1. 1. 1. 1. 1.]\n",
      " [1. 0. 0. 0. 1.]\n",
      " [1. 0. 0. 0. 1.]\n",
      " [1. 0. 0. 0. 1.]\n",
      " [1. 1. 1. 1. 1.]]\n"
     ]
    }
   ],
   "source": [
    "import numpy as np\n",
    "\n",
    "N = np.array(np.zeros((5,5)))\n",
    "#N[Zeile,Spalte]\n",
    "N[::1,::4] = 1\n",
    "N[::4,::1] = 1\n",
    "\n",
    "M = np.array(np.ones((5,5)))\n",
    "#oder\n",
    "M[1:4,1:4] = 0\n",
    "print (M)"
   ]
  },
  {
   "cell_type": "code",
   "execution_count": 1,
   "metadata": {},
   "outputs": [
    {
     "name": "stdout",
     "output_type": "stream",
     "text": [
      "[[1. 0. 1. 0. 1. 0. 1. 0.]\n",
      " [0. 1. 0. 1. 0. 1. 0. 1.]\n",
      " [1. 0. 1. 0. 1. 0. 1. 0.]\n",
      " [0. 1. 0. 1. 0. 1. 0. 1.]\n",
      " [1. 0. 1. 0. 1. 0. 1. 0.]\n",
      " [0. 1. 0. 1. 0. 1. 0. 1.]\n",
      " [1. 0. 1. 0. 1. 0. 1. 0.]\n",
      " [0. 1. 0. 1. 0. 1. 0. 1.]]\n"
     ]
    }
   ],
   "source": [
    "#Aufgabe 3\n",
    "import numpy as np\n",
    "N = np.array(np.zeros((8,8)))\n",
    "\n",
    "N[::2,::2] = 1\n",
    "N[::-2,::-2] = 1\n",
    "\n",
    "print (N)"
   ]
  },
  {
   "cell_type": "code",
   "execution_count": 1,
   "metadata": {},
   "outputs": [
    {
     "name": "stdout",
     "output_type": "stream",
     "text": [
      "Zahlen unter 0 bei M:  15\n",
      "Zahlen unter 0 bei N:  10\n"
     ]
    }
   ],
   "source": [
    "#Aufgabe 4\n",
    "\n",
    "import numpy as np\n",
    "\n",
    "\n",
    "np.random.seed(0)\n",
    "\n",
    "\n",
    "M = np.array(np.random.randint(low=-10, high= 11, size=(5,5), dtype='h')) #15\n",
    "N = np.array(np.random.uniform(low= -10, high=10, size=(5,5))) #10\n",
    "\n",
    "m = np.count_nonzero(M<0)\n",
    "n = np.count_nonzero(N<0)\n",
    "\n",
    "print (\"Zahlen unter 0 bei M: \",m)\n",
    "print (\"Zahlen unter 0 bei N: \",n)"
   ]
  },
  {
   "cell_type": "code",
   "execution_count": 138,
   "metadata": {},
   "outputs": [
    {
     "name": "stdout",
     "output_type": "stream",
     "text": [
      "[[ 2  5  0  0  0]\n",
      " [ 0  4  0  0  0]\n",
      " [ 0  0 10  9  0]\n",
      " [ 8  0  0  0  1]\n",
      " [ 0  1  0  8  2]]\n"
     ]
    }
   ],
   "source": [
    "#Aufgabe 5\n",
    "\n",
    "import numpy as np\n",
    "\n",
    "\n",
    "np.random.seed(0)\n",
    "\n",
    "\n",
    "\n",
    "M = np.array(np.random.randint(low=-10, high= 11, size=(5,5), dtype='h')) #15\n",
    "N = np.array(np.random.uniform(low= -10, high=10, size=(5,5))) #10\n",
    "\n",
    "M[M < 0] = 0\n",
    "N[N<0] = 0\n",
    "\n",
    "print (M)\n",
    "\n",
    "\n",
    "    \n",
    "    \n",
    "\n"
   ]
  },
  {
   "cell_type": "code",
   "execution_count": 140,
   "metadata": {},
   "outputs": [
    {
     "name": "stdout",
     "output_type": "stream",
     "text": [
      "[[ 0.         57.5842144   5.70362854 13.43145799 84.00940909]\n",
      " [ 0.          0.          0.         65.65652583 54.90594187]\n",
      " [73.03747054 94.47547394 59.05153364  0.         55.37423986]\n",
      " [ 0.         27.61930256  0.         87.77412601  4.31268585]\n",
      " [ 0.          0.         54.13156056  0.         13.50832006]]\n",
      "[[ 1.          0.51005583  0.83670547  0.64857361 -0.68689194]\n",
      " [ 1.          1.          1.         -0.95019981 -0.07186756]\n",
      " [-0.71032288  0.97418945 -0.80285547  1.          0.38607088]\n",
      " [ 1.         -0.79302885  1.          0.98191569 -0.38914489]\n",
      " [ 1.          1.         -0.74884054  1.          0.58821262]]\n"
     ]
    }
   ],
   "source": [
    "#Aufgabe 6\n",
    "N = np.multiply(N,np.pi)\n",
    "print (N)\n",
    "\n",
    "N = np.cos(N)\n",
    "print(N)"
   ]
  }
 ],
 "metadata": {
  "kernelspec": {
   "display_name": "Python 3",
   "language": "python",
   "name": "python3"
  },
  "language_info": {
   "codemirror_mode": {
    "name": "ipython",
    "version": 3
   },
   "file_extension": ".py",
   "mimetype": "text/x-python",
   "name": "python",
   "nbconvert_exporter": "python",
   "pygments_lexer": "ipython3",
   "version": "3.12.0"
  }
 },
 "nbformat": 4,
 "nbformat_minor": 2
}
