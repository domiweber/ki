{
 "cells": [
  {
   "cell_type": "markdown",
   "metadata": {},
   "source": [
    "## Numpy Basics"
   ]
  },
  {
   "cell_type": "markdown",
   "metadata": {},
   "source": [
    "NumPy stellt einen N-dimensionalen Array-Typ bereit, den ndarray.\n",
    "Es beschreibt eine Sammlung von „Elementen“ desselben Typs.\n",
    "Die Elemente können beispielsweise mit N Ganzzahlen indiziert werden.\n",
    "Alle Ndarrays sind homogen: Jedes Element belegt den gleichen Speicherblock.\n",
    "Ein Element aus dem Array wird durch ein PyObject dargestellt, das einer der integrierten NumPy-Skalartypen ist.\n",
    "\n",
    "<p align=\"left\">\n",
    "<img src=\"https://numpy.org/doc/stable/_images/threefundamental.png\">\n",
    "</p>\n"
   ]
  },
  {
   "cell_type": "markdown",
   "metadata": {},
   "source": [
    "## Numpy Array Attributes"
   ]
  },
  {
   "cell_type": "code",
   "execution_count": 1,
   "metadata": {},
   "outputs": [],
   "source": [
    "import numpy as np\n",
    "\n",
    "\n",
    "np.random.seed(0)       # Funktion mit der wir immer die gleichen Zufallszahlen generieren können"
   ]
  },
  {
   "cell_type": "code",
   "execution_count": 2,
   "metadata": {},
   "outputs": [],
   "source": [
    "def array_info(array: np.ndarray) -> None:\n",
    "    print(f\"ndim: {array.ndim}\")\n",
    "    print(f\"shape: {array.shape}\")\n",
    "    print(f\"size: {array.size}\")\n",
    "    print(f\"dtype: {array.dtype}\")\n",
    "    print(f\"values:\\n{array}\\n\")"
   ]
  },
  {
   "cell_type": "markdown",
   "metadata": {},
   "source": [
    "## Array Indexing and Sclicing\n"
   ]
  },
  {
   "cell_type": "markdown",
   "metadata": {},
   "source": [
    "Unter Array-Indizierung versteht man die Verwendung der eckigen Klammern ([]) zur Indizierung von Array-Werten.\n",
    "Es gibt viele Optionen für die Indizierung, die der Numpy-Indizierung große Leistungsfähigkeit verleihen.\n",
    "\n",
    "Die meisten der folgenden Beispiele zeigen die Verwendung der Indizierung beim Verweisen auf Daten in einem Array.\n",
    "Die Beispiele funktionieren genauso gut bei der Zuweisung zu einem Array.\n",
    "\n",
    "Hinweis: Array-Slices kopieren nicht die internen Array-Daten, sondern erzeugen nur neue Ansichten der Daten.\n",
    "\n",
    "![Alt text](np_matrix_indexing.png)\n",
    "\n"
   ]
  },
  {
   "cell_type": "code",
   "execution_count": 3,
   "metadata": {},
   "outputs": [
    {
     "name": "stdout",
     "output_type": "stream",
     "text": [
      "ndim: 2\n",
      "shape: (3, 2)\n",
      "size: 6\n",
      "dtype: int32\n",
      "values:\n",
      "[[1 2]\n",
      " [3 4]\n",
      " [5 6]]\n",
      "\n"
     ]
    }
   ],
   "source": [
    "x = np.array([[1, 2], [3, 4], [5, 6]])\n",
    "\n",
    "array_info(x)"
   ]
  },
  {
   "cell_type": "code",
   "execution_count": 4,
   "metadata": {},
   "outputs": [
    {
     "name": "stdout",
     "output_type": "stream",
     "text": [
      "[[1 2]\n",
      " [3 4]\n",
      " [5 6]]\n"
     ]
    }
   ],
   "source": [
    "print(x[:3])"
   ]
  },
  {
   "cell_type": "code",
   "execution_count": 5,
   "metadata": {},
   "outputs": [
    {
     "name": "stdout",
     "output_type": "stream",
     "text": [
      "[[3 4]\n",
      " [5 6]]\n"
     ]
    }
   ],
   "source": [
    "print(x[1:])"
   ]
  },
  {
   "cell_type": "code",
   "execution_count": 6,
   "metadata": {},
   "outputs": [
    {
     "name": "stdout",
     "output_type": "stream",
     "text": [
      "[[3 4]]\n"
     ]
    }
   ],
   "source": [
    "print(x[1:2])"
   ]
  },
  {
   "cell_type": "code",
   "execution_count": 7,
   "metadata": {},
   "outputs": [
    {
     "name": "stdout",
     "output_type": "stream",
     "text": [
      "[[5 6]\n",
      " [3 4]\n",
      " [1 2]]\n"
     ]
    }
   ],
   "source": [
    "print(x[::-1])"
   ]
  },
  {
   "cell_type": "code",
   "execution_count": null,
   "metadata": {},
   "outputs": [],
   "source": [
    "print(x[0, :])"
   ]
  },
  {
   "cell_type": "code",
   "execution_count": null,
   "metadata": {},
   "outputs": [],
   "source": [
    "print(x[0])"
   ]
  },
  {
   "cell_type": "code",
   "execution_count": null,
   "metadata": {},
   "outputs": [],
   "source": [
    "print(x[:, 0])"
   ]
  },
  {
   "cell_type": "code",
   "execution_count": 4,
   "metadata": {},
   "outputs": [
    {
     "name": "stdout",
     "output_type": "stream",
     "text": [
      "[[ 1  2]\n",
      " [-1 -1]\n",
      " [-1 -1]]\n"
     ]
    }
   ],
   "source": [
    "x[x>2]=-1\n",
    "print(x)"
   ]
  },
  {
   "cell_type": "code",
   "execution_count": null,
   "metadata": {},
   "outputs": [],
   "source": [
    "y=np.multiply(2,x)\n",
    "print(y)"
   ]
  },
  {
   "cell_type": "markdown",
   "metadata": {},
   "source": [
    "## Ufunctions\n",
    "\n",
    "Eine universelle Funktion ist eine Funktion:\n",
    "\n",
    "- das auf ndarrays Element für Element arbeitet\n",
    "\n",
    "Ein ufunc ist ein „vektorisierter“ Wrapper für eine Funktion, die ausgeführt wird\n",
    "eine feste Anzahl spezifischer Eingaben und erzeugt eine feste Anzahl spezifischer Ausgaben."
   ]
  },
  {
   "cell_type": "code",
   "execution_count": null,
   "metadata": {},
   "outputs": [],
   "source": [
    "from typing import Iterable\n",
    "\n",
    "import numpy as np\n",
    "\n",
    "\n",
    "np.random.seed(0)"
   ]
  },
  {
   "cell_type": "markdown",
   "metadata": {},
   "source": [
    "### Native Python Loops"
   ]
  },
  {
   "cell_type": "code",
   "execution_count": null,
   "metadata": {},
   "outputs": [],
   "source": [
    "def reciprocal(values: Iterable[float]) -> Iterable[float]:\n",
    "    output = np.empty(len(values))\n",
    "    for i in range(len(values)):\n",
    "        output[i] = 1.0 / values[i]\n",
    "    return output"
   ]
  },
  {
   "cell_type": "code",
   "execution_count": null,
   "metadata": {},
   "outputs": [],
   "source": [
    "small_array = np.random.randint(low=1, high=10, size=5)\n",
    "print(reciprocal(small_array))"
   ]
  },
  {
   "cell_type": "code",
   "execution_count": null,
   "metadata": {},
   "outputs": [],
   "source": [
    "small_array = np.random.randint(low=1, high=10, size=5)\n",
    "\n",
    "%timeit reciprocal(small_array)"
   ]
  },
  {
   "cell_type": "code",
   "execution_count": null,
   "metadata": {},
   "outputs": [],
   "source": [
    "big_array = np.random.randint(low=1, high=10, size=100_000)\n",
    "\n",
    "%timeit reciprocal(big_array)"
   ]
  },
  {
   "cell_type": "markdown",
   "metadata": {},
   "source": [
    "Geschwindigkeitsvergleich bei Faktor 10.000 \n",
    "(Python skaliert die Werte nicht ganz linear)"
   ]
  },
  {
   "cell_type": "code",
   "execution_count": null,
   "metadata": {},
   "outputs": [],
   "source": [
    "149 * 1000 / 8.34"
   ]
  },
  {
   "cell_type": "markdown",
   "metadata": {},
   "source": [
    "## Einführung Ufunction"
   ]
  },
  {
   "cell_type": "code",
   "execution_count": null,
   "metadata": {},
   "outputs": [],
   "source": [
    "print(reciprocal(small_array))\n",
    "print(1.0 / small_array)"
   ]
  },
  {
   "cell_type": "code",
   "execution_count": null,
   "metadata": {},
   "outputs": [],
   "source": [
    "%timeit (1.0 / big_array)"
   ]
  },
  {
   "cell_type": "code",
   "execution_count": null,
   "metadata": {},
   "outputs": [],
   "source": [
    "%timeit np.reciprocal(big_array)"
   ]
  },
  {
   "cell_type": "markdown",
   "metadata": {},
   "source": [
    "### Vergleich Iterativer Prozess und Ufunctions"
   ]
  },
  {
   "cell_type": "markdown",
   "metadata": {},
   "source": [
    "Geschwindigkeitsvergleich zwischen Iterativen Prozess und Ufunction\n",
    "(iterativ)*1000 /ufunction"
   ]
  },
  {
   "cell_type": "code",
   "execution_count": null,
   "metadata": {},
   "outputs": [],
   "source": [
    "#200 * 1000 / 103 \n",
    "149 * 1000 /104 #Geschwindigkeit"
   ]
  },
  {
   "cell_type": "markdown",
   "metadata": {},
   "source": [
    "## Welche Ufunctions gibt es?"
   ]
  },
  {
   "cell_type": "code",
   "execution_count": null,
   "metadata": {},
   "outputs": [],
   "source": [
    "x = np.arange(4)\n",
    "\n",
    "print(x)"
   ]
  },
  {
   "cell_type": "code",
   "execution_count": null,
   "metadata": {},
   "outputs": [],
   "source": [
    "print(x + 2)\n",
    "print(x - 2)\n",
    "print(x * 2)\n",
    "print(x / 2)"
   ]
  },
  {
   "cell_type": "code",
   "execution_count": null,
   "metadata": {},
   "outputs": [],
   "source": [
    "print(np.add(x, 2))"
   ]
  },
  {
   "cell_type": "markdown",
   "metadata": {},
   "source": [
    "### Standardfunktionen\n",
    "\n",
    "| Name       | Beschreibung                                                   |\n",
    "| ---------- | ------------------------------------------------------------- |\n",
    "| add        | Adds, element-wise                                            |\n",
    "| subtract   | Subtracts, element-wise                                       |\n",
    "| multiply   | Multiplies, element-wise                                      |\n",
    "| matmul     | Matrix product of two arrays                                  |\n",
    "| divide     | Returns a true division of the inputs, element-wise           |\n",
    "| negative   | Numerical negative, element-wise                              |\n",
    "| positive   | Numerical positive, element-wise                              |\n",
    "| mod        | Return, element-wise remainder of division                    |\n",
    "| absolute   | Calculate the absolute value, element-wise                    |\n",
    "| fabs       | Compute the absolute values, element-wise                     |\n",
    "| sign       | Returns an, element-wise indication of the sign of a number   |\n",
    "| exp        | Calculate the exponential of all elements in the input array  |\n",
    "| log        | Natural logarithm, element-wise                               |\n",
    "| sqrt       | Return the non-negative square-root of an array, element-wise |\n",
    "| square     | Return the, element-wise square of the input                  |\n",
    "| reciprocal | Return the reciprocal of the argument, element-wise           |\n",
    "| gcd        | Returns the greatest common divisor of \\|x1\\| and \\|x2\\|      |\n",
    "| lcm        | Returns the lowest common multiple of \\|x1\\| and \\|x2\\|       |\n",
    "\n",
    "### Trigonometrische Funktionen\n",
    "\n",
    "| Name | Beschreibung                      |\n",
    "| ---- | -------------------------------- |\n",
    "| sin  | Trigonometric sine, element-wise |\n",
    "| cos  | Cosine, element-wise             |\n",
    "| tan  | Compute tangent, element-wise    |\n",
    "\n",
    "### Vergleichsfunktionen\n",
    "\n",
    "| Name          | Beschreibung                                       |\n",
    "| ------------- | -------------------------------------------------- |\n",
    "| greater       | Return the truth value of (x1 > x2), element-wise  |\n",
    "| greater_equal | Return the truth value of (x1 >= x2), element-wise |\n",
    "| less          | Return the truth value of (x1 < x2), element-wise  |\n",
    "| less_equal    | Return the truth value of (x1 <= x2), element-wise |\n",
    "| not_equal     | Return (x1 != x2), element-wise                    |\n",
    "| equal         | Return (x1 == x2), element-wise                    |\n"
   ]
  },
  {
   "cell_type": "code",
   "execution_count": null,
   "metadata": {},
   "outputs": [],
   "source": [
    "x = np.array([-2, -1, 0, 1, 2])\n",
    "abs(x)\n",
    "print(np.abs(x))\n",
    "print(np.fabs(x))"
   ]
  },
  {
   "cell_type": "code",
   "execution_count": null,
   "metadata": {},
   "outputs": [],
   "source": [
    "theta = np.linspace(0, 2.0 * np.pi, 7)\n",
    "\n",
    "print(theta)\n",
    "print(np.sin(theta))\n",
    "print(np.cos(theta))"
   ]
  },
  {
   "cell_type": "code",
   "execution_count": null,
   "metadata": {},
   "outputs": [],
   "source": [
    "print(np.greater([4, 2], [2, 2]))\n",
    "\n",
    "a = np.array([4, 2])\n",
    "b = np.array([2, 2])\n",
    "print(a > b)"
   ]
  }
 ],
 "metadata": {
  "kernelspec": {
   "display_name": ".venv",
   "language": "python",
   "name": "python3"
  },
  "language_info": {
   "codemirror_mode": {
    "name": "ipython",
    "version": 3
   },
   "file_extension": ".py",
   "mimetype": "text/x-python",
   "name": "python",
   "nbconvert_exporter": "python",
   "pygments_lexer": "ipython3",
   "version": "3.9.12"
  },
  "orig_nbformat": 4
 },
 "nbformat": 4,
 "nbformat_minor": 2
}
