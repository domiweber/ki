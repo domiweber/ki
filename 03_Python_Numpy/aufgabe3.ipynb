{
 "cells": [
  {
   "cell_type": "code",
   "execution_count": 1,
   "metadata": {},
   "outputs": [
    {
     "name": "stdout",
     "output_type": "stream",
     "text": [
      "[[ -7 -15]\n",
      " [  4  10]]\n"
     ]
    }
   ],
   "source": [
    "import numpy as np\n",
    "\n",
    "# Aufgabe a\n",
    "\n",
    "a = np.array([[1,2],[3,4]])\n",
    "b = np.array([[-1,2],[-3,1]])\n",
    "\n",
    "\n",
    "print(np.transpose(b) @ np.transpose(a))"
   ]
  },
  {
   "cell_type": "code",
   "execution_count": 2,
   "metadata": {},
   "outputs": [
    {
     "name": "stdout",
     "output_type": "stream",
     "text": [
      "[[ -7 -15]\n",
      " [  4  10]]\n"
     ]
    }
   ],
   "source": [
    "import numpy as np\n",
    "\n",
    "# Aufgabe b\n",
    "\n",
    "a = np.array([[1,2],[3,4]])\n",
    "b = np.array([[-1,2],[-3,1]])\n",
    "\n",
    "\n",
    "print(np.transpose(a @ b))"
   ]
  },
  {
   "cell_type": "code",
   "execution_count": 3,
   "metadata": {},
   "outputs": [
    {
     "name": "stdout",
     "output_type": "stream",
     "text": [
      "[[ 5  0]\n",
      " [ 6 -2]]\n"
     ]
    }
   ],
   "source": [
    "import numpy as np\n",
    "\n",
    "# Aufgabe c\n",
    "\n",
    "a = np.array([[1,2],[3,4]])\n",
    "b = np.array([[-1,2],[-3,1]])\n",
    "\n",
    "\n",
    "print(np.transpose(a) @ np.transpose(b))"
   ]
  },
  {
   "cell_type": "code",
   "execution_count": 4,
   "metadata": {},
   "outputs": [
    {
     "name": "stdout",
     "output_type": "stream",
     "text": [
      "[[0 0]\n",
      " [4 5]]\n"
     ]
    }
   ],
   "source": [
    "import numpy as np\n",
    "\n",
    "# Aufgabe d\n",
    "\n",
    "a = np.array([[1,2],[3,4]])\n",
    "b = np.array([[-1,2],[-3,1]])\n",
    "\n",
    "\n",
    "print(np.transpose(a + b))"
   ]
  },
  {
   "cell_type": "code",
   "execution_count": 5,
   "metadata": {},
   "outputs": [
    {
     "name": "stdout",
     "output_type": "stream",
     "text": [
      "[[2 6]\n",
      " [4 8]]\n"
     ]
    }
   ],
   "source": [
    "import numpy as np\n",
    "\n",
    "# Aufgabe e\n",
    "\n",
    "a = np.array([[1,2],[3,4]])\n",
    "b = np.array([[-1,2],[-3,1]])\n",
    "\n",
    "\n",
    "print(np.transpose(2 * a))"
   ]
  },
  {
   "cell_type": "code",
   "execution_count": 6,
   "metadata": {},
   "outputs": [
    {
     "name": "stdout",
     "output_type": "stream",
     "text": [
      "[[-2 -6]\n",
      " [ 4  2]]\n"
     ]
    }
   ],
   "source": [
    "import numpy as np\n",
    "\n",
    "# Aufgabe f\n",
    "\n",
    "a = np.array([[1,2],[3,4]])\n",
    "b = np.array([[-1,2],[-3,1]])\n",
    "\n",
    "\n",
    "print(np.transpose(2 * b))"
   ]
  }
 ],
 "metadata": {
  "kernelspec": {
   "display_name": ".venv",
   "language": "python",
   "name": "python3"
  },
  "language_info": {
   "codemirror_mode": {
    "name": "ipython",
    "version": 3
   },
   "file_extension": ".py",
   "mimetype": "text/x-python",
   "name": "python",
   "nbconvert_exporter": "python",
   "pygments_lexer": "ipython3",
   "version": "3.10.10"
  }
 },
 "nbformat": 4,
 "nbformat_minor": 2
}
