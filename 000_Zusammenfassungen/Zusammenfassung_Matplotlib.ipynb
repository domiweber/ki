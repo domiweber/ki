{
 "cells": [
  {
   "cell_type": "code",
   "execution_count": null,
   "metadata": {},
   "outputs": [],
   "source": [
    "#Zahlen in array anhängen\n",
    "x=[]\n",
    "for n in range(-100,101,1):\n",
    "    x.append(n/10)\n",
    "## List Comprehension\n",
    "x = [n/10 for n in range(-100,101,1)]\n"
   ]
  },
  {
   "cell_type": "code",
   "execution_count": null,
   "metadata": {},
   "outputs": [],
   "source": [
    "#Zufallszahlen\n",
    "import random\n",
    "\n",
    "print(random.random())                                      #Zufallszahl zwischen 0 und 0.9999\n",
    "print(random.random()*9+1)                                  #Oder mit angepasstem Intervall\n",
    "print(random.randint(1,6))                                  #Zufallszahl Ganzzahl mit Min und Max\n",
    "x = np.random.normal(170, 10, 250)                          #Liefert eine Normalverteilte Zufallsvariable\n",
    "Zufallszahl=np.random.randint(1,7,20)                       #Erstellt 20 Zahlen im Bereich von 1-6\n",
    "print([random.randint(1,10) for n in range(0,11)])          #Oder aber auch zum generieren von Zufallszahlen in einer Liste"
   ]
  },
  {
   "cell_type": "code",
   "execution_count": null,
   "metadata": {},
   "outputs": [],
   "source": [
    "#Erstellen eines Arrays mit Zufallszahlen\n",
    "import numpy as np\n",
    "#np.random.seed(0) \n",
    "print(np.random.random(10))                                 #Generieren eines Arrays mit 10 Werten\n",
    "print(np.random.random(10)*9+1)                             #Oder angepasstes Intervall\n",
    "print(np.random.randint(1,6,10))                            #Zufallszahl mit Min und Max und anzahl der Elemente"
   ]
  },
  {
   "cell_type": "code",
   "execution_count": null,
   "metadata": {},
   "outputs": [],
   "source": [
    "#Matplotlib\n",
    "from matplotlib import pyplot as plt\n",
    "\n",
    "plt.plot(x,y)                                               #Werte für die Koordinaten x-Achse und y-Achse\n",
    "plt.xlabel(\"X-Werte\")                                       #Beschriftung X-Achse\n",
    "plt.ylabel(\"Y-Werte\")                                       #Beschriftung y-Achse\n",
    "plt.title(\"Funktion f(x)=-2x-3\")                            #Beschriftung Titel\n",
    "plt.grid(color='blue', linestyle='dashed')                  #Gibt an wie die Rasterung aussieht\n",
    "plt.grid()                                                  #Anzeige Hilfslinien\n",
    "plt.show                                                    #Graph Anzeigen"
   ]
  },
  {
   "cell_type": "code",
   "execution_count": null,
   "metadata": {},
   "outputs": [],
   "source": [
    "#Subplots\n",
    "plt.subplot(1,2,1)                   # plt.subplot(anzahl zeilen, anzahl spalten, nummer des bildes)\n",
    "plt.plot(x1,y1)\n",
    "plt.show\n",
    "\n",
    "plt.subplot(1,2,2)\n",
    "plt.plot(x2,y2)\n",
    "plt.show"
   ]
  },
  {
   "cell_type": "code",
   "execution_count": null,
   "metadata": {},
   "outputs": [],
   "source": [
    "#Anzeigemöglichkeiten\n",
    "plt.scatter(x, y)                   #Als Punktdarstellung                                      \n",
    "plt.hist(x)                         #Gibt ein Array als Säulendiagramm aus (Anzahl)\n"
   ]
  }
 ],
 "metadata": {
  "kernelspec": {
   "display_name": ".venv",
   "language": "python",
   "name": "python3"
  },
  "language_info": {
   "codemirror_mode": {
    "name": "ipython",
    "version": 3
   },
   "file_extension": ".py",
   "mimetype": "text/x-python",
   "name": "python",
   "nbconvert_exporter": "python",
   "pygments_lexer": "ipython3",
   "version": "3.10.10"
  }
 },
 "nbformat": 4,
 "nbformat_minor": 2
}
