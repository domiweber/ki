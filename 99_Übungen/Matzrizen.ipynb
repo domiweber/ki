{
 "cells": [
  {
   "cell_type": "code",
   "execution_count": 50,
   "metadata": {},
   "outputs": [
    {
     "name": "stdout",
     "output_type": "stream",
     "text": [
      "[[ 3.14159265  1.          1.        ]\n",
      " [-1.          3.14159265  1.        ]\n",
      " [-1.         -1.          3.14159265]]\n"
     ]
    }
   ],
   "source": [
    "import numpy as np\n",
    "import math as math\n",
    "\n",
    "A = np.zeros(shape=(3,3), dtype=float)\n",
    "\n",
    "A = np.diag([math.pi,math.pi,math.pi])\n",
    "\n",
    "i = np.triu_indices(3,1)\n",
    "A[i] = 1\n",
    "\n",
    "i = np.tril_indices(3,-1)\n",
    "A[i] = -1\n",
    "\n",
    "\n",
    "print(A)\n",
    "\n"
   ]
  },
  {
   "cell_type": "code",
   "execution_count": 64,
   "metadata": {},
   "outputs": [
    {
     "name": "stdout",
     "output_type": "stream",
     "text": [
      "[[1 1 1 1 1]\n",
      " [1 0 0 0 1]\n",
      " [1 0 0 0 1]\n",
      " [1 0 0 0 1]\n",
      " [1 1 1 1 1]]\n"
     ]
    }
   ],
   "source": [
    "a = np.zeros(shape=(5,5), dtype=int)\n",
    "\n",
    "a[::1,::4]=1\n",
    "a[::4,::1]=1\n",
    "\n",
    "print (a)"
   ]
  },
  {
   "cell_type": "code",
   "execution_count": 92,
   "metadata": {},
   "outputs": [
    {
     "name": "stdout",
     "output_type": "stream",
     "text": [
      "[[1 0 1 0 1 0 1 0]\n",
      " [0 1 0 1 0 1 0 1]\n",
      " [1 0 1 0 1 0 1 0]\n",
      " [0 1 0 1 0 1 0 1]\n",
      " [1 0 1 0 1 0 1 0]\n",
      " [0 1 0 1 0 1 0 1]\n",
      " [1 0 1 0 1 0 1 0]\n",
      " [0 1 0 1 0 1 0 1]]\n"
     ]
    }
   ],
   "source": [
    "a = np.zeros(shape=(8,8),dtype=int)\n",
    "\n",
    "a[::2,::2] = 1\n",
    "a[::-2,::-2] = 1\n",
    "print(a)"
   ]
  },
  {
   "cell_type": "code",
   "execution_count": 115,
   "metadata": {},
   "outputs": [
    {
     "name": "stdout",
     "output_type": "stream",
     "text": [
      "[[ 2  5  6 10  9]\n",
      " [ 7  4  8  7  3]\n",
      " [ 5  1 10  9  9]\n",
      " [ 8  4  6  5  1]\n",
      " [ 4  1  6  8  2]]\n"
     ]
    }
   ],
   "source": [
    "import numpy as np\n",
    "np.random.seed(0)\n",
    "M = np.array(np.random.randint(low=-10, high=11, size=(5, 5), dtype='h'))\n",
    "N = np.array(np.random.uniform(low=-10, high=10, size=(5, 5)))\n",
    "\n",
    "n = np.multiply(N,math.pi)\n",
    "\n",
    "n = np.cos(n)\n",
    "\n",
    "m = np.abs(M)\n",
    "\n",
    "print(m)\n"
   ]
  },
  {
   "cell_type": "code",
   "execution_count": 62,
   "metadata": {},
   "outputs": [
    {
     "name": "stdout",
     "output_type": "stream",
     "text": [
      "[[2 1 1 1 1 1 0 0]\n",
      " [1 2 1 1 1 1 0 0]\n",
      " [1 1 2 1 1 1 0 0]\n",
      " [1 1 1 2 1 1 0 0]\n",
      " [1 1 1 1 2 1 0 0]\n",
      " [1 1 1 1 1 2 0 0]\n",
      " [0 0 0 0 0 0 2 0]\n",
      " [0 0 0 0 0 0 0 2]]\n"
     ]
    }
   ],
   "source": [
    "import numpy as np\n",
    "a = np.ones(shape=(8,8),dtype=int)\n",
    "\n",
    "b = np.array([2,2,2,2,2,2,2,2])\n",
    "a= np.diag(b)\n",
    "\n",
    "i = np.tril_indices(6,-1)\n",
    "a[i] = 1\n",
    "\n",
    "\n",
    "i = np.triu_indices(6,1)\n",
    "a[i] = 1\n",
    "\n",
    "\n",
    "print(a)"
   ]
  },
  {
   "cell_type": "code",
   "execution_count": null,
   "metadata": {},
   "outputs": [],
   "source": []
  }
 ],
 "metadata": {
  "kernelspec": {
   "display_name": ".venv",
   "language": "python",
   "name": "python3"
  },
  "language_info": {
   "codemirror_mode": {
    "name": "ipython",
    "version": 3
   },
   "file_extension": ".py",
   "mimetype": "text/x-python",
   "name": "python",
   "nbconvert_exporter": "python",
   "pygments_lexer": "ipython3",
   "version": "3.12.0"
  }
 },
 "nbformat": 4,
 "nbformat_minor": 2
}
