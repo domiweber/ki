{
 "cells": [
  {
   "cell_type": "markdown",
   "metadata": {},
   "source": [
    "# Aufgabe 1"
   ]
  },
  {
   "cell_type": "code",
   "execution_count": 10,
   "metadata": {},
   "outputs": [],
   "source": [
    "import numpy as np\n",
    "\n",
    "def array_info(array: np.array) -> None:\n",
    "    print(f\"ndim: {array.ndim}\")\n",
    "    print(f\"shape: {array.shape}\")\n",
    "    print(f\"size: {array.size}\")\n",
    "    print(f\"dtype: {array.dtype}\")\n",
    "    print(f\"values:\\n{array}\\n\")"
   ]
  },
  {
   "cell_type": "markdown",
   "metadata": {},
   "source": [
    "### a)"
   ]
  },
  {
   "cell_type": "code",
   "execution_count": 11,
   "metadata": {},
   "outputs": [
    {
     "name": "stdout",
     "output_type": "stream",
     "text": [
      "[1 0 0 2]\n"
     ]
    }
   ],
   "source": [
    "A=np.array([1,4,0,1])\n",
    "B=np.array([1,0,3,2])\n",
    "\n",
    "X=np.multiply(A, np.transpose(B))\n",
    "\n",
    "print(X)"
   ]
  },
  {
   "cell_type": "markdown",
   "metadata": {},
   "source": [
    "### b)"
   ]
  },
  {
   "cell_type": "code",
   "execution_count": 12,
   "metadata": {},
   "outputs": [
    {
     "name": "stdout",
     "output_type": "stream",
     "text": [
      "[[1 0]\n",
      " [0 4]\n",
      " [0 0]\n",
      " [2 0]]\n"
     ]
    }
   ],
   "source": [
    "a=np.array([[1],[4],[0],[1]])\n",
    "b=np.array([[1,0],[0,1],[3,4],[2,0]])\n",
    "\n",
    "x=np.multiply(a, b)\n",
    "\n",
    "print(x)"
   ]
  },
  {
   "cell_type": "markdown",
   "metadata": {},
   "source": [
    "### c)"
   ]
  },
  {
   "cell_type": "code",
   "execution_count": 13,
   "metadata": {},
   "outputs": [
    {
     "name": "stdout",
     "output_type": "stream",
     "text": [
      "[[3 4]\n",
      " [9 6]]\n"
     ]
    }
   ],
   "source": [
    "a=np.array([[1,4,0,1],[0,2,1,3]])\n",
    "\n",
    "b=np.array([[1,0],[0,1],[3,4],[2,0]])\n",
    "x=np.matmul(a,b)\n",
    "\n",
    "print(x)"
   ]
  },
  {
   "cell_type": "markdown",
   "metadata": {},
   "source": [
    "### d)"
   ]
  },
  {
   "cell_type": "code",
   "execution_count": 14,
   "metadata": {},
   "outputs": [
    {
     "name": "stdout",
     "output_type": "stream",
     "text": [
      "[[3 4 8]\n",
      " [9 6 6]]\n"
     ]
    }
   ],
   "source": [
    "a=np.array([[1,4,0,1],[0,2,1,3]])\n",
    "\n",
    "b=np.array([[1,0,3],[0,1,1],[3,4,1],[2,0,1]])\n",
    "x=np.matmul(a,b)\n",
    "\n",
    "print(x)"
   ]
  },
  {
   "cell_type": "markdown",
   "metadata": {},
   "source": [
    "### e)"
   ]
  },
  {
   "cell_type": "code",
   "execution_count": 15,
   "metadata": {},
   "outputs": [
    {
     "name": "stdout",
     "output_type": "stream",
     "text": [
      "[[1. 4. 7.]\n",
      " [2. 5. 8.]\n",
      " [3. 6. 9.]]\n"
     ]
    }
   ],
   "source": [
    "#a=np.array([[1,0,0],[0,1,0],[0,0,1]])\n",
    "a=np.eye(N=3)\n",
    "\n",
    "b=np.array([[1,4,7],[2,5,8],[3,6,9]])\n",
    "x=np.matmul(a,b)\n",
    "\n",
    "print(x)"
   ]
  },
  {
   "cell_type": "markdown",
   "metadata": {},
   "source": [
    "### f)"
   ]
  },
  {
   "cell_type": "code",
   "execution_count": 16,
   "metadata": {},
   "outputs": [
    {
     "name": "stdout",
     "output_type": "stream",
     "text": [
      "[[1. 4. 7.]\n",
      " [2. 5. 8.]\n",
      " [3. 6. 9.]]\n"
     ]
    }
   ],
   "source": [
    "#a=np.array([[1,0,0],[0,1,0],[0,0,1]])\n",
    "b=np.eye(N=3)\n",
    "\n",
    "a=np.array([[1,4,7],[2,5,8],[3,6,9]])\n",
    "x=np.matmul(a,b)\n",
    "\n",
    "print(x)"
   ]
  },
  {
   "cell_type": "markdown",
   "metadata": {},
   "source": [
    "### g)"
   ]
  },
  {
   "cell_type": "code",
   "execution_count": 17,
   "metadata": {},
   "outputs": [
    {
     "name": "stdout",
     "output_type": "stream",
     "text": [
      "[[1 4 7]\n",
      " [1 4 7]\n",
      " [1 4 7]]\n"
     ]
    }
   ],
   "source": [
    "a=np.array([[1,0,0],[1,0,0],[1,0,0]])\n",
    "\n",
    "b=np.array([[1,4,7],[2,5,8],[3,6,9]])\n",
    "x=np.matmul(a,b)\n",
    "\n",
    "print(x)"
   ]
  },
  {
   "cell_type": "markdown",
   "metadata": {},
   "source": [
    "### h)"
   ]
  },
  {
   "cell_type": "code",
   "execution_count": 18,
   "metadata": {},
   "outputs": [
    {
     "name": "stdout",
     "output_type": "stream",
     "text": [
      "[[1 4 7]\n",
      " [1 4 7]\n",
      " [1 4 7]]\n"
     ]
    }
   ],
   "source": [
    "a=np.array([[1,0,0],[1,0,0],[1,0,0]])\n",
    "\n",
    "b=np.array([[1,4,7],[2,5,8],[3,6,9]])\n",
    "x=np.matmul(a,b)\n",
    "\n",
    "print(x)"
   ]
  },
  {
   "cell_type": "markdown",
   "metadata": {},
   "source": [
    "# Aufgabe 2\n",
    "\n",
    "## a)"
   ]
  },
  {
   "cell_type": "code",
   "execution_count": 27,
   "metadata": {},
   "outputs": [
    {
     "name": "stdout",
     "output_type": "stream",
     "text": [
      "[[-2  4]\n",
      " [17 11]\n",
      " [10 -5]]\n"
     ]
    }
   ],
   "source": [
    "A=np.array([[-2,0],[-1,3],[4,1]])\n",
    "B=np.array([[-1,1],[5,3]])\n",
    "C=np.array([[2,-3],[1,0]])\n",
    "\n",
    "X=np.matmul(A,B+C)\n",
    "B+C\n",
    "print(X)"
   ]
  },
  {
   "cell_type": "markdown",
   "metadata": {},
   "source": [
    "## b)"
   ]
  },
  {
   "cell_type": "code",
   "execution_count": 28,
   "metadata": {},
   "outputs": [
    {
     "name": "stdout",
     "output_type": "stream",
     "text": [
      "[[-2  4]\n",
      " [17 11]\n",
      " [10 -5]]\n"
     ]
    }
   ],
   "source": [
    "A=np.array([[-2,0],[-1,3],[4,1]])\n",
    "B=np.array([[-1,1],[5,3]])\n",
    "C=np.array([[2,-3],[1,0]])\n",
    "\n",
    "X=np.matmul(A,B)+np.matmul(A,C)\n",
    "print(X)"
   ]
  },
  {
   "cell_type": "markdown",
   "metadata": {},
   "source": [
    "# Aufgabe 3\n",
    "## a)"
   ]
  },
  {
   "cell_type": "code",
   "execution_count": 29,
   "metadata": {},
   "outputs": [
    {
     "name": "stdout",
     "output_type": "stream",
     "text": [
      "[[-1 -3]\n",
      " [ 4  4]]\n"
     ]
    }
   ],
   "source": [
    "A=np.array([[1,2],[3,4]])\n",
    "B=np.array([[-1,2],[-1,1]])\n",
    "\n",
    "X=np.transpose(B)*np.transpose(A)\n",
    "print(X)"
   ]
  },
  {
   "cell_type": "markdown",
   "metadata": {},
   "source": [
    "## b)"
   ]
  },
  {
   "cell_type": "code",
   "execution_count": 30,
   "metadata": {},
   "outputs": [
    {
     "name": "stdout",
     "output_type": "stream",
     "text": [
      "[[-3 -7]\n",
      " [ 4 10]]\n"
     ]
    }
   ],
   "source": [
    "A=np.array([[1,2],[3,4]])\n",
    "B=np.array([[-1,2],[-1,1]])\n",
    "\n",
    "X=np.transpose(np.matmul(A,B))\n",
    "print(X)"
   ]
  },
  {
   "cell_type": "markdown",
   "metadata": {},
   "source": [
    "## c)"
   ]
  },
  {
   "cell_type": "code",
   "execution_count": 31,
   "metadata": {},
   "outputs": [
    {
     "name": "stdout",
     "output_type": "stream",
     "text": [
      "[[-1 -3]\n",
      " [ 4  4]]\n"
     ]
    }
   ],
   "source": [
    "A=np.array([[1,2],[3,4]])\n",
    "B=np.array([[-1,2],[-1,1]])\n",
    "\n",
    "X=np.transpose(A)*np.transpose(B)\n",
    "print(X)"
   ]
  },
  {
   "cell_type": "markdown",
   "metadata": {},
   "source": [
    "## d)"
   ]
  },
  {
   "cell_type": "code",
   "execution_count": 32,
   "metadata": {},
   "outputs": [
    {
     "name": "stdout",
     "output_type": "stream",
     "text": [
      "[[0 2]\n",
      " [4 5]]\n"
     ]
    }
   ],
   "source": [
    "A=np.array([[1,2],[3,4]])\n",
    "B=np.array([[-1,2],[-1,1]])\n",
    "\n",
    "X=np.transpose(A+B)\n",
    "print(X)"
   ]
  },
  {
   "cell_type": "markdown",
   "metadata": {},
   "source": [
    "## e)"
   ]
  },
  {
   "cell_type": "code",
   "execution_count": 33,
   "metadata": {},
   "outputs": [
    {
     "name": "stdout",
     "output_type": "stream",
     "text": [
      "[[2 6]\n",
      " [4 8]]\n"
     ]
    }
   ],
   "source": [
    "A=np.array([[1,2],[3,4]])\n",
    "B=np.array([[-1,2],[-1,1]])\n",
    "\n",
    "X=np.transpose(2*A)\n",
    "print(X)"
   ]
  },
  {
   "cell_type": "markdown",
   "metadata": {},
   "source": [
    "## f)"
   ]
  },
  {
   "cell_type": "code",
   "execution_count": 34,
   "metadata": {},
   "outputs": [
    {
     "name": "stdout",
     "output_type": "stream",
     "text": [
      "[[-2 -2]\n",
      " [ 4  2]]\n"
     ]
    }
   ],
   "source": [
    "A=np.array([[1,2],[3,4]])\n",
    "B=np.array([[-1,2],[-1,1]])\n",
    "\n",
    "X=np.transpose(2*B)\n",
    "print(X)"
   ]
  },
  {
   "cell_type": "markdown",
   "metadata": {},
   "source": [
    "# Zusatzaufgabe\n",
    "\n",
    "Verwende ufunction wie matmul, multiply, sum etc..."
   ]
  },
  {
   "cell_type": "markdown",
   "metadata": {},
   "source": [
    "# Zusatzaufgabe"
   ]
  },
  {
   "cell_type": "code",
   "execution_count": 35,
   "metadata": {},
   "outputs": [
    {
     "name": "stdout",
     "output_type": "stream",
     "text": [
      "-2.0000000000000004\n"
     ]
    }
   ],
   "source": [
    "A=np.array([[1,2],[3,4]])\n",
    "B=np.array([[-1,2],[-1,1]])\n",
    "\n",
    "X=np.linalg.det(A)\n",
    "print(X)"
   ]
  }
 ],
 "metadata": {
  "kernelspec": {
   "display_name": "Python 3",
   "language": "python",
   "name": "python3"
  },
  "language_info": {
   "codemirror_mode": {
    "name": "ipython",
    "version": 3
   },
   "file_extension": ".py",
   "mimetype": "text/x-python",
   "name": "python",
   "nbconvert_exporter": "python",
   "pygments_lexer": "ipython3",
   "version": "3.12.0"
  }
 },
 "nbformat": 4,
 "nbformat_minor": 2
}
